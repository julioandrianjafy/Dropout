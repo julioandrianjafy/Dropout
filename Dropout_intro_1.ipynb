{
 "cells": [
  {
   "cell_type": "markdown",
   "metadata": {},
   "source": [
    "### Import modules"
   ]
  },
  {
   "cell_type": "code",
   "execution_count": 1,
   "metadata": {},
   "outputs": [],
   "source": [
    "import numpy as np\n",
    "import matplotlib.pyplot as plt\n",
    "import torch\n",
    "from torchvision import datasets, transforms\n",
    "from torch import nn\n",
    "from torch import optim"
   ]
  },
  {
   "cell_type": "markdown",
   "metadata": {},
   "source": [
    "### Load Fashion MNIST dataset"
   ]
  },
  {
   "cell_type": "code",
   "execution_count": 2,
   "metadata": {},
   "outputs": [],
   "source": [
    "# Define a transform to normalize the data\n",
    "transform = transforms.Compose([transforms.ToTensor(),transforms.Normalize((0.5,),(0.5,))])"
   ]
  },
  {
   "cell_type": "code",
   "execution_count": 3,
   "metadata": {},
   "outputs": [],
   "source": [
    "# Load the dataset\n",
    "train_set = datasets.FashionMNIST('../FASHION_MNIST/',download=True, train=True, transform=transform)\n",
    "trainloader = torch.utils.data.DataLoader(train_set, batch_size=64, shuffle= True)"
   ]
  },
  {
   "cell_type": "code",
   "execution_count": 4,
   "metadata": {},
   "outputs": [],
   "source": [
    "# Download test set\n",
    "test_set = datasets.FashionMNIST('../FASHION_MNIST/',download=True, train=False, transform=transform)\n",
    "testloader = torch.utils.data.DataLoader(test_set, batch_size=64, shuffle=True)"
   ]
  },
  {
   "cell_type": "markdown",
   "metadata": {},
   "source": [
    "### Data description"
   ]
  },
  {
   "cell_type": "code",
   "execution_count": 5,
   "metadata": {},
   "outputs": [],
   "source": [
    "image, label = next(iter(trainloader))"
   ]
  },
  {
   "cell_type": "code",
   "execution_count": 6,
   "metadata": {},
   "outputs": [
    {
     "name": "stdout",
     "output_type": "stream",
     "text": [
      "torch.Size([64, 1, 28, 28])\n",
      "torch.Size([64])\n"
     ]
    }
   ],
   "source": [
    "print(image.shape)\n",
    "print(label.shape)"
   ]
  },
  {
   "cell_type": "markdown",
   "metadata": {},
   "source": [
    "### Build our toy model"
   ]
  },
  {
   "cell_type": "code",
   "execution_count": 88,
   "metadata": {},
   "outputs": [],
   "source": [
    "class model_no_dropout(nn.Module):\n",
    "    \n",
    "    def __init__(self):\n",
    "        super().__init__()\n",
    "        \n",
    "        self.hidden1 = nn.Linear(784,256)\n",
    "        self.hidden2 = nn.Linear(256, 256)\n",
    "        self.output = nn.Linear(256,10)\n",
    "        \n",
    "        # Activation function\n",
    "        self.act = nn.ReLU()\n",
    "        self.softmax = nn.LogSoftmax(dim = 1)\n",
    "        \n",
    "    def forward(self,x):\n",
    "        \n",
    "        x = self.act(self.hidden1(x))\n",
    "        x = self.act(self.hidden2(x))\n",
    "        x = self.output(x)\n",
    "        \n",
    "        return self.softmax(x)"
   ]
  },
  {
   "cell_type": "code",
   "execution_count": 89,
   "metadata": {},
   "outputs": [],
   "source": [
    "Model_0 = model_no_dropout()"
   ]
  },
  {
   "cell_type": "code",
   "execution_count": 90,
   "metadata": {},
   "outputs": [],
   "source": [
    "# Test the forward pass\n",
    "test0 = image.view((len(image), -1))"
   ]
  },
  {
   "cell_type": "code",
   "execution_count": 91,
   "metadata": {},
   "outputs": [
    {
     "name": "stdout",
     "output_type": "stream",
     "text": [
      "torch.Size([64, 784])\n"
     ]
    }
   ],
   "source": [
    "print(test0.shape)"
   ]
  },
  {
   "cell_type": "code",
   "execution_count": 92,
   "metadata": {},
   "outputs": [
    {
     "name": "stdout",
     "output_type": "stream",
     "text": [
      "tensor([-2.3976, -2.2256, -2.2479, -2.3041, -2.4151, -2.3964, -2.2563, -2.3572,\n",
      "        -2.1925, -2.2621], grad_fn=<SelectBackward>)\n"
     ]
    }
   ],
   "source": [
    "print(Model_0.forward(test0)[0])"
   ]
  },
  {
   "cell_type": "code",
   "execution_count": 93,
   "metadata": {},
   "outputs": [],
   "source": [
    "# Define a loss function \n",
    "criterion = nn.NLLLoss()"
   ]
  },
  {
   "cell_type": "code",
   "execution_count": 94,
   "metadata": {},
   "outputs": [],
   "source": [
    "# Define simple optimizers\n",
    "optimizer = optim.SGD(Model_0.parameters(), lr = 0.01)"
   ]
  },
  {
   "cell_type": "code",
   "execution_count": 95,
   "metadata": {},
   "outputs": [],
   "source": [
    "# Define number of epochs\n",
    "n_epochs = 30"
   ]
  },
  {
   "cell_type": "code",
   "execution_count": 96,
   "metadata": {},
   "outputs": [],
   "source": [
    "# Save the losses here\n",
    "train_loss_0 = []\n",
    "test_loss_0 = []"
   ]
  },
  {
   "cell_type": "markdown",
   "metadata": {},
   "source": [
    "### Training the model"
   ]
  },
  {
   "cell_type": "code",
   "execution_count": 97,
   "metadata": {},
   "outputs": [
    {
     "name": "stdout",
     "output_type": "stream",
     "text": [
      "epoch: 0 tr_loss: 0.94413 test_loss: 0.63310\n",
      "epoch: 1 tr_loss: 0.53504 test_loss: 0.52006\n",
      "epoch: 2 tr_loss: 0.47470 test_loss: 0.48584\n",
      "epoch: 3 tr_loss: 0.44365 test_loss: 0.51244\n",
      "epoch: 4 tr_loss: 0.42153 test_loss: 0.45004\n",
      "epoch: 5 tr_loss: 0.40547 test_loss: 0.42870\n",
      "epoch: 6 tr_loss: 0.39076 test_loss: 0.43065\n",
      "epoch: 7 tr_loss: 0.37931 test_loss: 0.40913\n",
      "epoch: 8 tr_loss: 0.36894 test_loss: 0.41016\n",
      "epoch: 9 tr_loss: 0.35945 test_loss: 0.40144\n",
      "epoch: 10 tr_loss: 0.35032 test_loss: 0.40986\n",
      "epoch: 11 tr_loss: 0.34294 test_loss: 0.38464\n",
      "epoch: 12 tr_loss: 0.33527 test_loss: 0.38285\n",
      "epoch: 13 tr_loss: 0.32822 test_loss: 0.38982\n",
      "epoch: 14 tr_loss: 0.32233 test_loss: 0.36633\n",
      "epoch: 15 tr_loss: 0.31575 test_loss: 0.37724\n",
      "epoch: 16 tr_loss: 0.30993 test_loss: 0.36775\n",
      "epoch: 17 tr_loss: 0.30411 test_loss: 0.37043\n",
      "epoch: 18 tr_loss: 0.29841 test_loss: 0.35961\n",
      "epoch: 19 tr_loss: 0.29370 test_loss: 0.35498\n",
      "epoch: 20 tr_loss: 0.28909 test_loss: 0.37858\n",
      "epoch: 21 tr_loss: 0.28365 test_loss: 0.35727\n",
      "epoch: 22 tr_loss: 0.27935 test_loss: 0.34427\n",
      "epoch: 23 tr_loss: 0.27432 test_loss: 0.36377\n",
      "epoch: 24 tr_loss: 0.27009 test_loss: 0.34034\n",
      "epoch: 25 tr_loss: 0.26535 test_loss: 0.34950\n",
      "epoch: 26 tr_loss: 0.26236 test_loss: 0.34410\n",
      "epoch: 27 tr_loss: 0.25800 test_loss: 0.33509\n",
      "epoch: 28 tr_loss: 0.25342 test_loss: 0.33519\n",
      "epoch: 29 tr_loss: 0.24901 test_loss: 0.35365\n"
     ]
    }
   ],
   "source": [
    "for i in range(n_epochs):\n",
    "    \n",
    "        # To evaluate the mean loss for each epochs\n",
    "        running_loss = 0\n",
    "        \n",
    "        for images, labels in trainloader:\n",
    "            \n",
    "            # Reshape the image for training \n",
    "            images = images.view(len(images), -1)\n",
    "            \n",
    "            # Clear the gradient\n",
    "            optimizer.zero_grad()\n",
    "            \n",
    "            # Feedforward\n",
    "            y_feed = Model_0.forward(images)\n",
    "            \n",
    "            # Calculate loss\n",
    "            loss = criterion(y_feed, labels)\n",
    "            \n",
    "            # Calculate the gradient\n",
    "            loss.backward()\n",
    "            \n",
    "            # update the weights\n",
    "            optimizer.step()\n",
    "            \n",
    "            running_loss += loss.item()\n",
    "        else:\n",
    "            \n",
    "            # Evaluate test set\n",
    "            with torch.no_grad():\n",
    "                \n",
    "                running_tloss = 0\n",
    "                \n",
    "                # Loop over test data \n",
    "                for imtest, labtest in testloader:\n",
    "                    \n",
    "                    # Reshape the images\n",
    "                    imtest = imtest.view(len(imtest), -1)\n",
    "                    \n",
    "                    # Forward the test data\n",
    "                    ypred = Model_0(imtest)\n",
    "                    \n",
    "                    # Calculate loss\n",
    "                    tloss = criterion(ypred, labtest)\n",
    "                    \n",
    "                    running_tloss += tloss.item()\n",
    "                \n",
    "                \n",
    "                print('epoch: %d tr_loss: %.5f test_loss: %.5f'%(i, running_loss/len(trainloader), running_tloss/len(testloader)))\n",
    "            \n",
    "            train_loss_0.append(running_loss/len(trainloader))\n",
    "            test_loss_0.append(running_tloss/len(testloader))\n",
    "            \n",
    "            # Back to training \n",
    "            Model_0.train()"
   ]
  },
  {
   "cell_type": "code",
   "execution_count": 98,
   "metadata": {},
   "outputs": [],
   "source": [
    "# Model with dropout\n",
    "class model_with_dropout(nn.Module):\n",
    "    \n",
    "    def __init__(self):\n",
    "        super().__init__()\n",
    "        \n",
    "        self.hidden1 = nn.Linear(784,256)\n",
    "        self.hidden2 = nn.Linear(256, 256)\n",
    "        self.output = nn.Linear(256,10)\n",
    "        \n",
    "        # Activation function\n",
    "        self.act = nn.ReLU()\n",
    "        self.softmax = nn.LogSoftmax(dim = 1)\n",
    "        self.drop = nn.Dropout(0.5)\n",
    "        \n",
    "    def forward(self,x):\n",
    "        \n",
    "        x = self.drop(self.act(self.hidden1(x)))\n",
    "        x = self.drop(self.act(self.hidden2(x)))\n",
    "        x = self.output(x)\n",
    "        \n",
    "        return self.softmax(x)"
   ]
  },
  {
   "cell_type": "code",
   "execution_count": 99,
   "metadata": {},
   "outputs": [],
   "source": [
    "Model_1 = model_with_dropout()"
   ]
  },
  {
   "cell_type": "code",
   "execution_count": 100,
   "metadata": {},
   "outputs": [],
   "source": [
    "train_loss_1 = []\n",
    "test_loss_1 = []"
   ]
  },
  {
   "cell_type": "code",
   "execution_count": 101,
   "metadata": {},
   "outputs": [],
   "source": [
    "# Define simple optimizers\n",
    "optimizer = optim.SGD(Model_1.parameters(), lr = 0.01)"
   ]
  },
  {
   "cell_type": "code",
   "execution_count": 102,
   "metadata": {},
   "outputs": [
    {
     "name": "stdout",
     "output_type": "stream",
     "text": [
      "epoch: 0 tr_loss: 1.19227 test_loss: 0.79244\n",
      "epoch: 1 tr_loss: 0.70069 test_loss: 0.65790\n",
      "epoch: 2 tr_loss: 0.61192 test_loss: 0.61003\n",
      "epoch: 3 tr_loss: 0.55990 test_loss: 0.56407\n",
      "epoch: 4 tr_loss: 0.52383 test_loss: 0.54549\n",
      "epoch: 5 tr_loss: 0.50137 test_loss: 0.52418\n",
      "epoch: 6 tr_loss: 0.48291 test_loss: 0.50750\n",
      "epoch: 7 tr_loss: 0.46805 test_loss: 0.49216\n",
      "epoch: 8 tr_loss: 0.45517 test_loss: 0.49054\n",
      "epoch: 9 tr_loss: 0.44564 test_loss: 0.47961\n",
      "epoch: 10 tr_loss: 0.43397 test_loss: 0.47138\n",
      "epoch: 11 tr_loss: 0.42527 test_loss: 0.46089\n",
      "epoch: 12 tr_loss: 0.41632 test_loss: 0.45099\n",
      "epoch: 13 tr_loss: 0.40970 test_loss: 0.45238\n",
      "epoch: 14 tr_loss: 0.40349 test_loss: 0.44145\n",
      "epoch: 15 tr_loss: 0.39736 test_loss: 0.44556\n",
      "epoch: 16 tr_loss: 0.39325 test_loss: 0.44343\n",
      "epoch: 17 tr_loss: 0.38470 test_loss: 0.43477\n",
      "epoch: 18 tr_loss: 0.38372 test_loss: 0.43434\n",
      "epoch: 19 tr_loss: 0.37637 test_loss: 0.42601\n",
      "epoch: 20 tr_loss: 0.37157 test_loss: 0.42692\n",
      "epoch: 21 tr_loss: 0.36998 test_loss: 0.41623\n",
      "epoch: 22 tr_loss: 0.36632 test_loss: 0.41506\n",
      "epoch: 23 tr_loss: 0.36084 test_loss: 0.41483\n",
      "epoch: 24 tr_loss: 0.35922 test_loss: 0.41597\n",
      "epoch: 25 tr_loss: 0.35354 test_loss: 0.40924\n",
      "epoch: 26 tr_loss: 0.35081 test_loss: 0.40147\n",
      "epoch: 27 tr_loss: 0.34665 test_loss: 0.40616\n",
      "epoch: 28 tr_loss: 0.34400 test_loss: 0.41009\n",
      "epoch: 29 tr_loss: 0.34266 test_loss: 0.41003\n"
     ]
    }
   ],
   "source": [
    "for i in range(n_epochs):\n",
    "    \n",
    "        # To evaluate the mean loss for each epochs\n",
    "        running_loss = 0\n",
    "        \n",
    "        for images, labels in trainloader:\n",
    "            \n",
    "            # Reshape the image for training \n",
    "            images = images.view(len(images), -1)\n",
    "            \n",
    "            # Clear the gradient\n",
    "            optimizer.zero_grad()\n",
    "            \n",
    "            # Feedforward\n",
    "            y_feed = Model_1.forward(images)\n",
    "            \n",
    "            # Calculate loss\n",
    "            loss = criterion(y_feed, labels)\n",
    "            \n",
    "            # Calculate the gradient\n",
    "            loss.backward()\n",
    "            \n",
    "            # update the weights\n",
    "            optimizer.step()\n",
    "            \n",
    "            running_loss += loss.item()\n",
    "        else:\n",
    "            \n",
    "            # Evaluate test set\n",
    "            with torch.no_grad():\n",
    "                \n",
    "                running_tloss = 0\n",
    "                \n",
    "                # Loop over test data \n",
    "                for imtest, labtest in testloader:\n",
    "                    \n",
    "                    # Reshape the images\n",
    "                    imtest = imtest.view(len(imtest), -1)\n",
    "                    \n",
    "                    # Forward the test data\n",
    "                    ypred = Model_1(imtest)\n",
    "                    \n",
    "                    # Calculate loss\n",
    "                    tloss = criterion(ypred, labtest)\n",
    "                    \n",
    "                    running_tloss += tloss.item()\n",
    "                \n",
    "                \n",
    "                print('epoch: %d tr_loss: %.5f test_loss: %.5f'%(i, running_loss/len(trainloader), running_tloss/len(testloader)))\n",
    "            \n",
    "            train_loss_1.append(running_loss/len(trainloader))\n",
    "            test_loss_1.append(running_tloss/len(testloader))\n",
    "            \n",
    "            # Back to training \n",
    "            Model_1.train()"
   ]
  },
  {
   "cell_type": "code",
   "execution_count": 103,
   "metadata": {},
   "outputs": [],
   "source": [
    "x = np.arange(n_epochs)"
   ]
  },
  {
   "cell_type": "code",
   "execution_count": 104,
   "metadata": {},
   "outputs": [
    {
     "data": {
      "text/plain": [
       "<matplotlib.legend.Legend at 0x7f7ddcc69198>"
      ]
     },
     "execution_count": 104,
     "metadata": {},
     "output_type": "execute_result"
    },
    {
     "data": {
      "image/png": "[encoded data removed]",
      "text/plain": [
       "<Figure size 864x720 with 1 Axes>"
      ]
     },
     "metadata": {
      "needs_background": "light"
     },
     "output_type": "display_data"
    }
   ],
   "source": [
    "### Visualize the result \n",
    "fig = plt.figure(figsize = [12,10])\n",
    "ax = fig.add_subplot(1,1,1)\n",
    "plt.xticks(fontsize=14)\n",
    "plt.yticks(fontsize=14)\n",
    "plt.xlabel('Epoch', fontsize= 30)\n",
    "plt.ylabel('Loss', fontsize = 30)\n",
    "ax.plot(x, train_loss_0, label = 'train_no_dropout')\n",
    "ax.plot(x, test_loss_0, label = 'test_no_dropout')\n",
    "ax.plot(x, train_loss_1, label = 'train_with_dropout')\n",
    "ax.plot(x, test_loss_1, label = 'test_with_dropout')\n",
    "plt.legend(fontsize = 20)"
   ]
  }
 ],
 "metadata": {
  "kernelspec": {
   "display_name": "Python 3",
   "language": "python",
   "name": "python3"
  },
  "language_info": {
   "codemirror_mode": {
    "name": "ipython",
    "version": 3
   },
   "file_extension": ".py",
   "mimetype": "text/x-python",
   "name": "python",
   "nbconvert_exporter": "python",
   "pygments_lexer": "ipython3",
   "version": "3.7.3"
  }
 },
 "nbformat": 4,
 "nbformat_minor": 2
}
